{
 "cells": [
  {
   "cell_type": "markdown",
   "id": "e13077bf",
   "metadata": {},
   "source": [
    "## Music Recommender using Facial Emotion Detection"
   ]
  },
  {
   "cell_type": "code",
   "execution_count": 1,
   "id": "0fd8e8b4",
   "metadata": {},
   "outputs": [
    {
     "name": "stderr",
     "output_type": "stream",
     "text": [
      "2025-05-17 16:32:26.302080: I external/local_xla/xla/tsl/cuda/cudart_stub.cc:32] Could not find cuda drivers on your machine, GPU will not be used.\n",
      "2025-05-17 16:32:26.452028: I external/local_xla/xla/tsl/cuda/cudart_stub.cc:32] Could not find cuda drivers on your machine, GPU will not be used.\n",
      "2025-05-17 16:32:26.596148: E external/local_xla/xla/stream_executor/cuda/cuda_fft.cc:467] Unable to register cuFFT factory: Attempting to register factory for plugin cuFFT when one has already been registered\n",
      "WARNING: All log messages before absl::InitializeLog() is called are written to STDERR\n",
      "E0000 00:00:1747479746.708817   31957 cuda_dnn.cc:8579] Unable to register cuDNN factory: Attempting to register factory for plugin cuDNN when one has already been registered\n",
      "E0000 00:00:1747479746.743282   31957 cuda_blas.cc:1407] Unable to register cuBLAS factory: Attempting to register factory for plugin cuBLAS when one has already been registered\n",
      "W0000 00:00:1747479747.010079   31957 computation_placer.cc:177] computation placer already registered. Please check linkage and avoid linking the same target more than once.\n",
      "W0000 00:00:1747479747.010121   31957 computation_placer.cc:177] computation placer already registered. Please check linkage and avoid linking the same target more than once.\n",
      "W0000 00:00:1747479747.010138   31957 computation_placer.cc:177] computation placer already registered. Please check linkage and avoid linking the same target more than once.\n",
      "W0000 00:00:1747479747.010141   31957 computation_placer.cc:177] computation placer already registered. Please check linkage and avoid linking the same target more than once.\n",
      "2025-05-17 16:32:27.047326: I tensorflow/core/platform/cpu_feature_guard.cc:210] This TensorFlow binary is optimized to use available CPU instructions in performance-critical operations.\n",
      "To enable the following instructions: AVX2 FMA, in other operations, rebuild TensorFlow with the appropriate compiler flags.\n"
     ]
    }
   ],
   "source": [
    "import tensorflow as tf\n",
    "from tensorflow.keras.models import Sequential\n",
    "from tensorflow.keras.layers import Conv2D, MaxPooling2D, Flatten, Dense, Dropout, BatchNormalization\n",
    "from tensorflow.keras.preprocessing import image_dataset_from_directory\n",
    "from tensorflow.keras.callbacks import EarlyStopping, ModelCheckpoint,ReduceLROnPlateau\n",
    "from tensorflow.keras.optimizers import Adam\n",
    "from tensorflow.keras import layers, models\n",
    "import pickle\n",
    "import matplotlib.pyplot as plt\n",
    "\n",
    "\n",
    "#music recommendor\n",
    "from music_recommender import MusicRecommender\n",
    "import logging\n",
    "\n",
    "import numpy as np\n",
    "import cv2\n",
    "import time\n",
    "from concurrent.futures import ThreadPoolExecutor"
   ]
  },
  {
   "cell_type": "markdown",
   "id": "4cc1e187",
   "metadata": {},
   "source": [
    "#### emotion detection\n"
   ]
  },
  {
   "cell_type": "markdown",
   "id": "c230a66d",
   "metadata": {},
   "source": [
    "##### Dataset preparation"
   ]
  },
  {
   "cell_type": "code",
   "execution_count": null,
   "id": "efd721bf",
   "metadata": {},
   "outputs": [
    {
     "name": "stdout",
     "output_type": "stream",
     "text": [
      "Found 28709 files belonging to 7 classes.\n",
      "Found 7178 files belonging to 7 classes.\n",
      "Emotion classes: ['angry', 'disgust', 'fear', 'happy', 'neutral', 'sad', 'surprise']\n"
     ]
    }
   ],
   "source": [
    "# Define paths to your dataset (adjust these to your actual paths)\n",
    "train_dir = 'fer-2013/train'\n",
    "test_dir = 'fer-2013/   test'\n",
    "\n",
    "# Constants\n",
    "BATCH_SIZE = 32\n",
    "IMG_SIZE = (48, 48)  # FER-2013 images are 48x48 pixels\n",
    "\n",
    "# Load the dataset\n",
    "train_dataset = image_dataset_from_directory(\n",
    "    train_dir,\n",
    "    shuffle=True,\n",
    "    batch_size=BATCH_SIZE,\n",
    "    image_size=IMG_SIZE,\n",
    "    color_mode='grayscale',  # FER-2013 is grayscale\n",
    "    label_mode='categorical'\n",
    ")\n",
    "\n",
    "validation_dataset = image_dataset_from_directory(\n",
    "    test_dir,\n",
    "    shuffle=True,\n",
    "    batch_size=BATCH_SIZE,\n",
    "    image_size=IMG_SIZE,\n",
    "    color_mode='grayscale',\n",
    "    label_mode='categorical'\n",
    ")\n",
    "\n",
    "# Check the class names\n",
    "class_names = train_dataset.class_names\n",
    "print(\"Emotion classes:\", class_names)"
   ]
  },
  {
   "cell_type": "markdown",
   "id": "aae318dd",
   "metadata": {},
   "source": [
    "#### data augmentation"
   ]
  },
  {
   "cell_type": "code",
   "execution_count": 14,
   "id": "32e428a7",
   "metadata": {},
   "outputs": [],
   "source": [
    "data_augmentation = tf.keras.Sequential([\n",
    "    layers.RandomFlip(\"horizontal\"),\n",
    "    layers.RandomRotation(0.1),\n",
    "    layers.RandomZoom(0.1),\n",
    "    layers.RandomContrast(0.1)\n",
    "])\n"
   ]
  },
  {
   "cell_type": "markdown",
   "id": "d928507a",
   "metadata": {},
   "source": [
    "### build the cnn "
   ]
  },
  {
   "cell_type": "code",
   "execution_count": 15,
   "id": "edf501b6",
   "metadata": {},
   "outputs": [
    {
     "name": "stderr",
     "output_type": "stream",
     "text": [
      "/home/sanyam/Documents/machine learning /minor project/moodtunes/moodtunes/backend/venv/lib/python3.12/site-packages/keras/src/layers/preprocessing/tf_data_layer.py:19: UserWarning: Do not pass an `input_shape`/`input_dim` argument to a layer. When using Sequential models, prefer using an `Input(shape)` object as the first layer in the model instead.\n",
      "  super().__init__(**kwargs)\n"
     ]
    },
    {
     "data": {
      "text/html": [
       "<pre style=\"white-space:pre;overflow-x:auto;line-height:normal;font-family:Menlo,'DejaVu Sans Mono',consolas,'Courier New',monospace\"><span style=\"font-weight: bold\">Model: \"sequential_1\"</span>\n",
       "</pre>\n"
      ],
      "text/plain": [
       "\u001b[1mModel: \"sequential_1\"\u001b[0m\n"
      ]
     },
     "metadata": {},
     "output_type": "display_data"
    },
    {
     "data": {
      "text/html": [
       "<pre style=\"white-space:pre;overflow-x:auto;line-height:normal;font-family:Menlo,'DejaVu Sans Mono',consolas,'Courier New',monospace\">┏━━━━━━━━━━━━━━━━━━━━━━━━━━━━━━━━━┳━━━━━━━━━━━━━━━━━━━━━━━━┳━━━━━━━━━━━━━━━┓\n",
       "┃<span style=\"font-weight: bold\"> Layer (type)                    </span>┃<span style=\"font-weight: bold\"> Output Shape           </span>┃<span style=\"font-weight: bold\">       Param # </span>┃\n",
       "┡━━━━━━━━━━━━━━━━━━━━━━━━━━━━━━━━━╇━━━━━━━━━━━━━━━━━━━━━━━━╇━━━━━━━━━━━━━━━┩\n",
       "│ sequential (<span style=\"color: #0087ff; text-decoration-color: #0087ff\">Sequential</span>)         │ ?                      │   <span style=\"color: #00af00; text-decoration-color: #00af00\">0</span> (unbuilt) │\n",
       "├─────────────────────────────────┼────────────────────────┼───────────────┤\n",
       "│ rescaling (<span style=\"color: #0087ff; text-decoration-color: #0087ff\">Rescaling</span>)           │ ?                      │   <span style=\"color: #00af00; text-decoration-color: #00af00\">0</span> (unbuilt) │\n",
       "├─────────────────────────────────┼────────────────────────┼───────────────┤\n",
       "│ conv2d (<span style=\"color: #0087ff; text-decoration-color: #0087ff\">Conv2D</span>)                 │ ?                      │   <span style=\"color: #00af00; text-decoration-color: #00af00\">0</span> (unbuilt) │\n",
       "├─────────────────────────────────┼────────────────────────┼───────────────┤\n",
       "│ max_pooling2d (<span style=\"color: #0087ff; text-decoration-color: #0087ff\">MaxPooling2D</span>)    │ ?                      │             <span style=\"color: #00af00; text-decoration-color: #00af00\">0</span> │\n",
       "├─────────────────────────────────┼────────────────────────┼───────────────┤\n",
       "│ conv2d_1 (<span style=\"color: #0087ff; text-decoration-color: #0087ff\">Conv2D</span>)               │ ?                      │   <span style=\"color: #00af00; text-decoration-color: #00af00\">0</span> (unbuilt) │\n",
       "├─────────────────────────────────┼────────────────────────┼───────────────┤\n",
       "│ max_pooling2d_1 (<span style=\"color: #0087ff; text-decoration-color: #0087ff\">MaxPooling2D</span>)  │ ?                      │             <span style=\"color: #00af00; text-decoration-color: #00af00\">0</span> │\n",
       "├─────────────────────────────────┼────────────────────────┼───────────────┤\n",
       "│ conv2d_2 (<span style=\"color: #0087ff; text-decoration-color: #0087ff\">Conv2D</span>)               │ ?                      │   <span style=\"color: #00af00; text-decoration-color: #00af00\">0</span> (unbuilt) │\n",
       "├─────────────────────────────────┼────────────────────────┼───────────────┤\n",
       "│ max_pooling2d_2 (<span style=\"color: #0087ff; text-decoration-color: #0087ff\">MaxPooling2D</span>)  │ ?                      │             <span style=\"color: #00af00; text-decoration-color: #00af00\">0</span> │\n",
       "├─────────────────────────────────┼────────────────────────┼───────────────┤\n",
       "│ flatten (<span style=\"color: #0087ff; text-decoration-color: #0087ff\">Flatten</span>)               │ ?                      │   <span style=\"color: #00af00; text-decoration-color: #00af00\">0</span> (unbuilt) │\n",
       "├─────────────────────────────────┼────────────────────────┼───────────────┤\n",
       "│ dense (<span style=\"color: #0087ff; text-decoration-color: #0087ff\">Dense</span>)                   │ ?                      │   <span style=\"color: #00af00; text-decoration-color: #00af00\">0</span> (unbuilt) │\n",
       "├─────────────────────────────────┼────────────────────────┼───────────────┤\n",
       "│ dropout (<span style=\"color: #0087ff; text-decoration-color: #0087ff\">Dropout</span>)               │ ?                      │             <span style=\"color: #00af00; text-decoration-color: #00af00\">0</span> │\n",
       "├─────────────────────────────────┼────────────────────────┼───────────────┤\n",
       "│ dense_1 (<span style=\"color: #0087ff; text-decoration-color: #0087ff\">Dense</span>)                 │ ?                      │   <span style=\"color: #00af00; text-decoration-color: #00af00\">0</span> (unbuilt) │\n",
       "└─────────────────────────────────┴────────────────────────┴───────────────┘\n",
       "</pre>\n"
      ],
      "text/plain": [
       "┏━━━━━━━━━━━━━━━━━━━━━━━━━━━━━━━━━┳━━━━━━━━━━━━━━━━━━━━━━━━┳━━━━━━━━━━━━━━━┓\n",
       "┃\u001b[1m \u001b[0m\u001b[1mLayer (type)                   \u001b[0m\u001b[1m \u001b[0m┃\u001b[1m \u001b[0m\u001b[1mOutput Shape          \u001b[0m\u001b[1m \u001b[0m┃\u001b[1m \u001b[0m\u001b[1m      Param #\u001b[0m\u001b[1m \u001b[0m┃\n",
       "┡━━━━━━━━━━━━━━━━━━━━━━━━━━━━━━━━━╇━━━━━━━━━━━━━━━━━━━━━━━━╇━━━━━━━━━━━━━━━┩\n",
       "│ sequential (\u001b[38;5;33mSequential\u001b[0m)         │ ?                      │   \u001b[38;5;34m0\u001b[0m (unbuilt) │\n",
       "├─────────────────────────────────┼────────────────────────┼───────────────┤\n",
       "│ rescaling (\u001b[38;5;33mRescaling\u001b[0m)           │ ?                      │   \u001b[38;5;34m0\u001b[0m (unbuilt) │\n",
       "├─────────────────────────────────┼────────────────────────┼───────────────┤\n",
       "│ conv2d (\u001b[38;5;33mConv2D\u001b[0m)                 │ ?                      │   \u001b[38;5;34m0\u001b[0m (unbuilt) │\n",
       "├─────────────────────────────────┼────────────────────────┼───────────────┤\n",
       "│ max_pooling2d (\u001b[38;5;33mMaxPooling2D\u001b[0m)    │ ?                      │             \u001b[38;5;34m0\u001b[0m │\n",
       "├─────────────────────────────────┼────────────────────────┼───────────────┤\n",
       "│ conv2d_1 (\u001b[38;5;33mConv2D\u001b[0m)               │ ?                      │   \u001b[38;5;34m0\u001b[0m (unbuilt) │\n",
       "├─────────────────────────────────┼────────────────────────┼───────────────┤\n",
       "│ max_pooling2d_1 (\u001b[38;5;33mMaxPooling2D\u001b[0m)  │ ?                      │             \u001b[38;5;34m0\u001b[0m │\n",
       "├─────────────────────────────────┼────────────────────────┼───────────────┤\n",
       "│ conv2d_2 (\u001b[38;5;33mConv2D\u001b[0m)               │ ?                      │   \u001b[38;5;34m0\u001b[0m (unbuilt) │\n",
       "├─────────────────────────────────┼────────────────────────┼───────────────┤\n",
       "│ max_pooling2d_2 (\u001b[38;5;33mMaxPooling2D\u001b[0m)  │ ?                      │             \u001b[38;5;34m0\u001b[0m │\n",
       "├─────────────────────────────────┼────────────────────────┼───────────────┤\n",
       "│ flatten (\u001b[38;5;33mFlatten\u001b[0m)               │ ?                      │   \u001b[38;5;34m0\u001b[0m (unbuilt) │\n",
       "├─────────────────────────────────┼────────────────────────┼───────────────┤\n",
       "│ dense (\u001b[38;5;33mDense\u001b[0m)                   │ ?                      │   \u001b[38;5;34m0\u001b[0m (unbuilt) │\n",
       "├─────────────────────────────────┼────────────────────────┼───────────────┤\n",
       "│ dropout (\u001b[38;5;33mDropout\u001b[0m)               │ ?                      │             \u001b[38;5;34m0\u001b[0m │\n",
       "├─────────────────────────────────┼────────────────────────┼───────────────┤\n",
       "│ dense_1 (\u001b[38;5;33mDense\u001b[0m)                 │ ?                      │   \u001b[38;5;34m0\u001b[0m (unbuilt) │\n",
       "└─────────────────────────────────┴────────────────────────┴───────────────┘\n"
      ]
     },
     "metadata": {},
     "output_type": "display_data"
    },
    {
     "data": {
      "text/html": [
       "<pre style=\"white-space:pre;overflow-x:auto;line-height:normal;font-family:Menlo,'DejaVu Sans Mono',consolas,'Courier New',monospace\"><span style=\"font-weight: bold\"> Total params: </span><span style=\"color: #00af00; text-decoration-color: #00af00\">0</span> (0.00 B)\n",
       "</pre>\n"
      ],
      "text/plain": [
       "\u001b[1m Total params: \u001b[0m\u001b[38;5;34m0\u001b[0m (0.00 B)\n"
      ]
     },
     "metadata": {},
     "output_type": "display_data"
    },
    {
     "data": {
      "text/html": [
       "<pre style=\"white-space:pre;overflow-x:auto;line-height:normal;font-family:Menlo,'DejaVu Sans Mono',consolas,'Courier New',monospace\"><span style=\"font-weight: bold\"> Trainable params: </span><span style=\"color: #00af00; text-decoration-color: #00af00\">0</span> (0.00 B)\n",
       "</pre>\n"
      ],
      "text/plain": [
       "\u001b[1m Trainable params: \u001b[0m\u001b[38;5;34m0\u001b[0m (0.00 B)\n"
      ]
     },
     "metadata": {},
     "output_type": "display_data"
    },
    {
     "data": {
      "text/html": [
       "<pre style=\"white-space:pre;overflow-x:auto;line-height:normal;font-family:Menlo,'DejaVu Sans Mono',consolas,'Courier New',monospace\"><span style=\"font-weight: bold\"> Non-trainable params: </span><span style=\"color: #00af00; text-decoration-color: #00af00\">0</span> (0.00 B)\n",
       "</pre>\n"
      ],
      "text/plain": [
       "\u001b[1m Non-trainable params: \u001b[0m\u001b[38;5;34m0\u001b[0m (0.00 B)\n"
      ]
     },
     "metadata": {},
     "output_type": "display_data"
    }
   ],
   "source": [
    "\n",
    "model = models.Sequential([\n",
    "    data_augmentation,\n",
    "    layers.Rescaling(1./255, input_shape=(48, 48, 1)),\n",
    "    \n",
    "    layers.Conv2D(64, (3, 3), activation='relu'),\n",
    "    layers.MaxPooling2D(),\n",
    "\n",
    "    layers.Conv2D(128, (3, 3), activation='relu'),\n",
    "    layers.MaxPooling2D(),\n",
    "\n",
    "    layers.Conv2D(256, (3, 3), activation='relu'),\n",
    "    layers.MaxPooling2D(),\n",
    "\n",
    "    layers.Flatten(),\n",
    "    layers.Dense(128, activation='relu'),\n",
    "    layers.Dropout(0.3),\n",
    "    layers.Dense(7, activation='softmax')  # FER-2013 has 7 classes\n",
    "])\n",
    "\n",
    "# --- Compile Model ---\n",
    "optimizer = tf.keras.optimizers.Adam(learning_rate=0.0005)\n",
    "model.compile(optimizer=optimizer,\n",
    "              loss='categorical_crossentropy',\n",
    "              metrics=['accuracy'])\n",
    "# Show model summary\n",
    "model.summary()"
   ]
  },
  {
   "cell_type": "markdown",
   "id": "771bcd9e",
   "metadata": {},
   "source": [
    "### train the model"
   ]
  },
  {
   "cell_type": "code",
   "execution_count": 44,
   "id": "48f932dc",
   "metadata": {},
   "outputs": [
    {
     "name": "stdout",
     "output_type": "stream",
     "text": [
      "Epoch 1/50\n",
      "\u001b[1m898/898\u001b[0m \u001b[32m━━━━━━━━━━━━━━━━━━━━\u001b[0m\u001b[37m\u001b[0m \u001b[1m81s\u001b[0m 90ms/step - accuracy: 0.2731 - loss: 1.7727 - val_accuracy: 0.3658 - val_loss: 1.5989\n",
      "Epoch 2/50\n",
      "\u001b[1m898/898\u001b[0m \u001b[32m━━━━━━━━━━━━━━━━━━━━\u001b[0m\u001b[37m\u001b[0m \u001b[1m80s\u001b[0m 89ms/step - accuracy: 0.3614 - loss: 1.6228 - val_accuracy: 0.4401 - val_loss: 1.4394\n",
      "Epoch 3/50\n",
      "\u001b[1m898/898\u001b[0m \u001b[32m━━━━━━━━━━━━━━━━━━━━\u001b[0m\u001b[37m\u001b[0m \u001b[1m80s\u001b[0m 89ms/step - accuracy: 0.4267 - loss: 1.4952 - val_accuracy: 0.4907 - val_loss: 1.3247\n",
      "Epoch 4/50\n",
      "\u001b[1m898/898\u001b[0m \u001b[32m━━━━━━━━━━━━━━━━━━━━\u001b[0m\u001b[37m\u001b[0m \u001b[1m79s\u001b[0m 88ms/step - accuracy: 0.4559 - loss: 1.4111 - val_accuracy: 0.5092 - val_loss: 1.2795\n",
      "Epoch 5/50\n",
      "\u001b[1m898/898\u001b[0m \u001b[32m━━━━━━━━━━━━━━━━━━━━\u001b[0m\u001b[37m\u001b[0m \u001b[1m80s\u001b[0m 89ms/step - accuracy: 0.4832 - loss: 1.3588 - val_accuracy: 0.5043 - val_loss: 1.3005\n",
      "Epoch 6/50\n",
      "\u001b[1m898/898\u001b[0m \u001b[32m━━━━━━━━━━━━━━━━━━━━\u001b[0m\u001b[37m\u001b[0m \u001b[1m80s\u001b[0m 89ms/step - accuracy: 0.5002 - loss: 1.3216 - val_accuracy: 0.5098 - val_loss: 1.2586\n",
      "Epoch 7/50\n",
      "\u001b[1m898/898\u001b[0m \u001b[32m━━━━━━━━━━━━━━━━━━━━\u001b[0m\u001b[37m\u001b[0m \u001b[1m79s\u001b[0m 88ms/step - accuracy: 0.5106 - loss: 1.2933 - val_accuracy: 0.5315 - val_loss: 1.2189\n",
      "Epoch 8/50\n",
      "\u001b[1m898/898\u001b[0m \u001b[32m━━━━━━━━━━━━━━━━━━━━\u001b[0m\u001b[37m\u001b[0m \u001b[1m78s\u001b[0m 86ms/step - accuracy: 0.5160 - loss: 1.2669 - val_accuracy: 0.5440 - val_loss: 1.1905\n",
      "Epoch 9/50\n",
      "\u001b[1m898/898\u001b[0m \u001b[32m━━━━━━━━━━━━━━━━━━━━\u001b[0m\u001b[37m\u001b[0m \u001b[1m78s\u001b[0m 86ms/step - accuracy: 0.5285 - loss: 1.2400 - val_accuracy: 0.5460 - val_loss: 1.1870\n",
      "Epoch 10/50\n",
      "\u001b[1m898/898\u001b[0m \u001b[32m━━━━━━━━━━━━━━━━━━━━\u001b[0m\u001b[37m\u001b[0m \u001b[1m78s\u001b[0m 87ms/step - accuracy: 0.5378 - loss: 1.2298 - val_accuracy: 0.5369 - val_loss: 1.2230\n",
      "Epoch 11/50\n",
      "\u001b[1m898/898\u001b[0m \u001b[32m━━━━━━━━━━━━━━━━━━━━\u001b[0m\u001b[37m\u001b[0m \u001b[1m78s\u001b[0m 87ms/step - accuracy: 0.5402 - loss: 1.2184 - val_accuracy: 0.5559 - val_loss: 1.1619\n",
      "Epoch 12/50\n",
      "\u001b[1m898/898\u001b[0m \u001b[32m━━━━━━━━━━━━━━━━━━━━\u001b[0m\u001b[37m\u001b[0m \u001b[1m332s\u001b[0m 371ms/step - accuracy: 0.5499 - loss: 1.1890 - val_accuracy: 0.5552 - val_loss: 1.1682\n",
      "Epoch 13/50\n",
      "\u001b[1m898/898\u001b[0m \u001b[32m━━━━━━━━━━━━━━━━━━━━\u001b[0m\u001b[37m\u001b[0m \u001b[1m76s\u001b[0m 84ms/step - accuracy: 0.5502 - loss: 1.1869 - val_accuracy: 0.5658 - val_loss: 1.1371\n",
      "Epoch 14/50\n",
      "\u001b[1m898/898\u001b[0m \u001b[32m━━━━━━━━━━━━━━━━━━━━\u001b[0m\u001b[37m\u001b[0m \u001b[1m76s\u001b[0m 85ms/step - accuracy: 0.5582 - loss: 1.1755 - val_accuracy: 0.5602 - val_loss: 1.1472\n",
      "Epoch 15/50\n",
      "\u001b[1m898/898\u001b[0m \u001b[32m━━━━━━━━━━━━━━━━━━━━\u001b[0m\u001b[37m\u001b[0m \u001b[1m74s\u001b[0m 82ms/step - accuracy: 0.5600 - loss: 1.1687 - val_accuracy: 0.5624 - val_loss: 1.1488\n",
      "Epoch 16/50\n",
      "\u001b[1m898/898\u001b[0m \u001b[32m━━━━━━━━━━━━━━━━━━━━\u001b[0m\u001b[37m\u001b[0m \u001b[1m71s\u001b[0m 79ms/step - accuracy: 0.5660 - loss: 1.1530 - val_accuracy: 0.5646 - val_loss: 1.1330\n",
      "Epoch 17/50\n",
      "\u001b[1m898/898\u001b[0m \u001b[32m━━━━━━━━━━━━━━━━━━━━\u001b[0m\u001b[37m\u001b[0m \u001b[1m78s\u001b[0m 87ms/step - accuracy: 0.5642 - loss: 1.1431 - val_accuracy: 0.5730 - val_loss: 1.1339\n",
      "Epoch 18/50\n",
      "\u001b[1m898/898\u001b[0m \u001b[32m━━━━━━━━━━━━━━━━━━━━\u001b[0m\u001b[37m\u001b[0m \u001b[1m81s\u001b[0m 90ms/step - accuracy: 0.5773 - loss: 1.1351 - val_accuracy: 0.5694 - val_loss: 1.1294\n",
      "Epoch 19/50\n",
      "\u001b[1m898/898\u001b[0m \u001b[32m━━━━━━━━━━━━━━━━━━━━\u001b[0m\u001b[37m\u001b[0m \u001b[1m72s\u001b[0m 80ms/step - accuracy: 0.5816 - loss: 1.1236 - val_accuracy: 0.5600 - val_loss: 1.1786\n",
      "Epoch 20/50\n",
      "\u001b[1m898/898\u001b[0m \u001b[32m━━━━━━━━━━━━━━━━━━━━\u001b[0m\u001b[37m\u001b[0m \u001b[1m73s\u001b[0m 81ms/step - accuracy: 0.5770 - loss: 1.1230 - val_accuracy: 0.5808 - val_loss: 1.1144\n",
      "Epoch 21/50\n",
      "\u001b[1m898/898\u001b[0m \u001b[32m━━━━━━━━━━━━━━━━━━━━\u001b[0m\u001b[37m\u001b[0m \u001b[1m71s\u001b[0m 79ms/step - accuracy: 0.5850 - loss: 1.1108 - val_accuracy: 0.5822 - val_loss: 1.1065\n",
      "Epoch 22/50\n",
      "\u001b[1m898/898\u001b[0m \u001b[32m━━━━━━━━━━━━━━━━━━━━\u001b[0m\u001b[37m\u001b[0m \u001b[1m70s\u001b[0m 78ms/step - accuracy: 0.5812 - loss: 1.1140 - val_accuracy: 0.5761 - val_loss: 1.1199\n",
      "Epoch 23/50\n",
      "\u001b[1m898/898\u001b[0m \u001b[32m━━━━━━━━━━━━━━━━━━━━\u001b[0m\u001b[37m\u001b[0m \u001b[1m71s\u001b[0m 79ms/step - accuracy: 0.5868 - loss: 1.1017 - val_accuracy: 0.5804 - val_loss: 1.1152\n",
      "Epoch 24/50\n",
      "\u001b[1m898/898\u001b[0m \u001b[32m━━━━━━━━━━━━━━━━━━━━\u001b[0m\u001b[37m\u001b[0m \u001b[1m74s\u001b[0m 82ms/step - accuracy: 0.5902 - loss: 1.0901 - val_accuracy: 0.5818 - val_loss: 1.1154\n",
      "Epoch 25/50\n",
      "\u001b[1m898/898\u001b[0m \u001b[32m━━━━━━━━━━━━━━━━━━━━\u001b[0m\u001b[37m\u001b[0m \u001b[1m73s\u001b[0m 81ms/step - accuracy: 0.5926 - loss: 1.0844 - val_accuracy: 0.5716 - val_loss: 1.1385\n",
      "Epoch 26/50\n",
      "\u001b[1m898/898\u001b[0m \u001b[32m━━━━━━━━━━━━━━━━━━━━\u001b[0m\u001b[37m\u001b[0m \u001b[1m77s\u001b[0m 86ms/step - accuracy: 0.5936 - loss: 1.0856 - val_accuracy: 0.5706 - val_loss: 1.1633\n",
      "Epoch 27/50\n",
      "\u001b[1m898/898\u001b[0m \u001b[32m━━━━━━━━━━━━━━━━━━━━\u001b[0m\u001b[37m\u001b[0m \u001b[1m73s\u001b[0m 81ms/step - accuracy: 0.6004 - loss: 1.0684 - val_accuracy: 0.5821 - val_loss: 1.1111\n",
      "Epoch 28/50\n",
      "\u001b[1m898/898\u001b[0m \u001b[32m━━━━━━━━━━━━━━━━━━━━\u001b[0m\u001b[37m\u001b[0m \u001b[1m77s\u001b[0m 86ms/step - accuracy: 0.5953 - loss: 1.0728 - val_accuracy: 0.5889 - val_loss: 1.0957\n",
      "Epoch 29/50\n",
      "\u001b[1m898/898\u001b[0m \u001b[32m━━━━━━━━━━━━━━━━━━━━\u001b[0m\u001b[37m\u001b[0m \u001b[1m72s\u001b[0m 80ms/step - accuracy: 0.6013 - loss: 1.0632 - val_accuracy: 0.5779 - val_loss: 1.1310\n",
      "Epoch 30/50\n",
      "\u001b[1m898/898\u001b[0m \u001b[32m━━━━━━━━━━━━━━━━━━━━\u001b[0m\u001b[37m\u001b[0m \u001b[1m75s\u001b[0m 84ms/step - accuracy: 0.6057 - loss: 1.0554 - val_accuracy: 0.5945 - val_loss: 1.0890\n",
      "Epoch 31/50\n",
      "\u001b[1m898/898\u001b[0m \u001b[32m━━━━━━━━━━━━━━━━━━━━\u001b[0m\u001b[37m\u001b[0m \u001b[1m73s\u001b[0m 82ms/step - accuracy: 0.5978 - loss: 1.0565 - val_accuracy: 0.5935 - val_loss: 1.0889\n",
      "Epoch 32/50\n",
      "\u001b[1m898/898\u001b[0m \u001b[32m━━━━━━━━━━━━━━━━━━━━\u001b[0m\u001b[37m\u001b[0m \u001b[1m75s\u001b[0m 83ms/step - accuracy: 0.5984 - loss: 1.0541 - val_accuracy: 0.5872 - val_loss: 1.1164\n",
      "Epoch 33/50\n",
      "\u001b[1m898/898\u001b[0m \u001b[32m━━━━━━━━━━━━━━━━━━━━\u001b[0m\u001b[37m\u001b[0m \u001b[1m77s\u001b[0m 86ms/step - accuracy: 0.6017 - loss: 1.0581 - val_accuracy: 0.5929 - val_loss: 1.0998\n",
      "Epoch 34/50\n",
      "\u001b[1m898/898\u001b[0m \u001b[32m━━━━━━━━━━━━━━━━━━━━\u001b[0m\u001b[37m\u001b[0m \u001b[1m78s\u001b[0m 87ms/step - accuracy: 0.6141 - loss: 1.0325 - val_accuracy: 0.5926 - val_loss: 1.0844\n",
      "Epoch 35/50\n",
      "\u001b[1m898/898\u001b[0m \u001b[32m━━━━━━━━━━━━━━━━━━━━\u001b[0m\u001b[37m\u001b[0m \u001b[1m74s\u001b[0m 82ms/step - accuracy: 0.6108 - loss: 1.0331 - val_accuracy: 0.5828 - val_loss: 1.1140\n",
      "Epoch 36/50\n",
      "\u001b[1m898/898\u001b[0m \u001b[32m━━━━━━━━━━━━━━━━━━━━\u001b[0m\u001b[37m\u001b[0m \u001b[1m77s\u001b[0m 86ms/step - accuracy: 0.6142 - loss: 1.0239 - val_accuracy: 0.5893 - val_loss: 1.1112\n",
      "Epoch 37/50\n",
      "\u001b[1m898/898\u001b[0m \u001b[32m━━━━━━━━━━━━━━━━━━━━\u001b[0m\u001b[37m\u001b[0m \u001b[1m78s\u001b[0m 87ms/step - accuracy: 0.6178 - loss: 1.0218 - val_accuracy: 0.5993 - val_loss: 1.0965\n",
      "Epoch 38/50\n",
      "\u001b[1m898/898\u001b[0m \u001b[32m━━━━━━━━━━━━━━━━━━━━\u001b[0m\u001b[37m\u001b[0m \u001b[1m70s\u001b[0m 78ms/step - accuracy: 0.6177 - loss: 1.0219 - val_accuracy: 0.5964 - val_loss: 1.0827\n",
      "Epoch 39/50\n",
      "\u001b[1m898/898\u001b[0m \u001b[32m━━━━━━━━━━━━━━━━━━━━\u001b[0m\u001b[37m\u001b[0m \u001b[1m71s\u001b[0m 80ms/step - accuracy: 0.6187 - loss: 1.0079 - val_accuracy: 0.5972 - val_loss: 1.0897\n",
      "Epoch 40/50\n",
      "\u001b[1m898/898\u001b[0m \u001b[32m━━━━━━━━━━━━━━━━━━━━\u001b[0m\u001b[37m\u001b[0m \u001b[1m82s\u001b[0m 91ms/step - accuracy: 0.6214 - loss: 1.0053 - val_accuracy: 0.6014 - val_loss: 1.0809\n",
      "Epoch 41/50\n",
      "\u001b[1m898/898\u001b[0m \u001b[32m━━━━━━━━━━━━━━━━━━━━\u001b[0m\u001b[37m\u001b[0m \u001b[1m77s\u001b[0m 85ms/step - accuracy: 0.6190 - loss: 1.0086 - val_accuracy: 0.5918 - val_loss: 1.1055\n",
      "Epoch 42/50\n",
      "\u001b[1m898/898\u001b[0m \u001b[32m━━━━━━━━━━━━━━━━━━━━\u001b[0m\u001b[37m\u001b[0m \u001b[1m79s\u001b[0m 88ms/step - accuracy: 0.6169 - loss: 1.0083 - val_accuracy: 0.5965 - val_loss: 1.1143\n",
      "Epoch 43/50\n",
      "\u001b[1m898/898\u001b[0m \u001b[32m━━━━━━━━━━━━━━━━━━━━\u001b[0m\u001b[37m\u001b[0m \u001b[1m76s\u001b[0m 84ms/step - accuracy: 0.6235 - loss: 1.0033 - val_accuracy: 0.5908 - val_loss: 1.1244\n",
      "Epoch 44/50\n",
      "\u001b[1m898/898\u001b[0m \u001b[32m━━━━━━━━━━━━━━━━━━━━\u001b[0m\u001b[37m\u001b[0m \u001b[1m83s\u001b[0m 92ms/step - accuracy: 0.6241 - loss: 1.0006 - val_accuracy: 0.6010 - val_loss: 1.0997\n",
      "Epoch 45/50\n",
      "\u001b[1m898/898\u001b[0m \u001b[32m━━━━━━━━━━━━━━━━━━━━\u001b[0m\u001b[37m\u001b[0m \u001b[1m79s\u001b[0m 87ms/step - accuracy: 0.6269 - loss: 0.9903 - val_accuracy: 0.5979 - val_loss: 1.0973\n",
      "Epoch 46/50\n",
      "\u001b[1m898/898\u001b[0m \u001b[32m━━━━━━━━━━━━━━━━━━━━\u001b[0m\u001b[37m\u001b[0m \u001b[1m74s\u001b[0m 82ms/step - accuracy: 0.6236 - loss: 0.9978 - val_accuracy: 0.5914 - val_loss: 1.1180\n",
      "Epoch 47/50\n",
      "\u001b[1m898/898\u001b[0m \u001b[32m━━━━━━━━━━━━━━━━━━━━\u001b[0m\u001b[37m\u001b[0m \u001b[1m76s\u001b[0m 85ms/step - accuracy: 0.6256 - loss: 0.9936 - val_accuracy: 0.5999 - val_loss: 1.0931\n"
     ]
    },
    {
     "name": "stderr",
     "output_type": "stream",
     "text": [
      "WARNING:absl:You are saving your model as an HDF5 file via `model.save()` or `keras.saving.save_model(model)`. This file format is considered legacy. We recommend using instead the native Keras format, e.g. `model.save('my_model.keras')` or `keras.saving.save_model(model, 'my_model.keras')`. \n"
     ]
    }
   ],
   "source": [
    "# Define early stopping to prevent overfitting\n",
    "early_stopping = EarlyStopping(\n",
    "    monitor='val_loss',\n",
    "    patience=7,\n",
    "    restore_best_weights=True\n",
    ")\n",
    "\n",
    "# Number of epochs\n",
    "epochs = 50\n",
    "\n",
    "# Train the model\n",
    "history = model.fit(\n",
    "    train_dataset,\n",
    "    validation_data=validation_dataset,\n",
    "    epochs=epochs,\n",
    "    callbacks=[early_stopping]\n",
    ")\n",
    "\n",
    "\n",
    "with open('history.pkl','wb') as f:\n",
    "    pickle.dump(history.history,f)\n",
    "\n",
    "# Save the model\n",
    "model.save('emotion_cnn_model.h5')\n"
   ]
  },
  {
   "cell_type": "code",
   "execution_count": 11,
   "id": "d3aea3fc",
   "metadata": {},
   "outputs": [],
   "source": [
    "model.save(\"emotion_cnn_model.keras\")"
   ]
  },
  {
   "cell_type": "markdown",
   "id": "7741c4fa",
   "metadata": {},
   "source": [
    "### evaluation and visualization"
   ]
  },
  {
   "cell_type": "code",
   "execution_count": 16,
   "id": "d5654a09",
   "metadata": {},
   "outputs": [
    {
     "data": {
      "image/png": "[encoded data removed]",
      "text/plain": [
       "<Figure size 1200x400 with 2 Axes>"
      ]
     },
     "metadata": {},
     "output_type": "display_data"
    },
    {
     "name": "stdout",
     "output_type": "stream",
     "text": [
      "\u001b[1m225/225\u001b[0m \u001b[32m━━━━━━━━━━━━━━━━━━━━\u001b[0m\u001b[37m\u001b[0m \u001b[1m4s\u001b[0m 12ms/step - accuracy: 0.2455 - loss: 25.4997\n",
      "Test accuracy: 0.24\n"
     ]
    }
   ],
   "source": [
    "# Plot training history\n",
    "model = tf.keras.models.load_model(\"emotion_cnn_model.keras\")\n",
    "with open('history.pkl','rb') as f:\n",
    "    history = pickle.load(f)\n",
    "def plot_history(history):\n",
    "    plt.figure(figsize=(12, 4))\n",
    "    \n",
    "    # Plot accuracy\n",
    "    plt.subplot(1, 2, 1)\n",
    "    plt.plot(history['accuracy'], label='Training Accuracy')\n",
    "    plt.plot(history['val_accuracy'], label='Validation Accuracy')\n",
    "    plt.xlabel('Epoch')\n",
    "    plt.ylabel('Accuracy')\n",
    "    plt.legend()\n",
    "    \n",
    "    # Plot loss\n",
    "    plt.subplot(1, 2, 2)\n",
    "    plt.plot(history['loss'], label='Training Loss')\n",
    "    plt.plot(history['val_loss'], label='Validation Loss')\n",
    "    plt.xlabel('Epoch')\n",
    "    plt.ylabel('Loss')\n",
    "    plt.legend()\n",
    "    \n",
    "    plt.show()\n",
    "\n",
    "plot_history(history)\n",
    "\n",
    "# Evaluate on test set\n",
    "test_loss, test_acc = model.evaluate(validation_dataset)\n",
    "print(f'Test accuracy: {test_acc:.2f}')"
   ]
  },
  {
   "cell_type": "markdown",
   "id": "8f018378",
   "metadata": {},
   "source": [
    "##### prediction function"
   ]
  },
  {
   "cell_type": "code",
   "execution_count": 5,
   "id": "568ef66b",
   "metadata": {},
   "outputs": [],
   "source": [
    "\n",
    "class_names = ['angry', 'disgust', 'fear', 'happy', 'neutral', 'sad', 'surprise']\n",
    "\n",
    "def predict_emotion(frame, model):\n",
    "    gray = cv2.cvtColor(frame, cv2.COLOR_BGR2GRAY)\n",
    "    face_cascade = cv2.CascadeClassifier(cv2.data.haarcascades + 'haarcascade_frontalface_default.xml')\n",
    "    faces = face_cascade.detectMultiScale(gray, 1.3, 5)\n",
    "\n",
    "    if len(faces) == 0:\n",
    "        return \"No face\", 0.0\n",
    "\n",
    "    (x, y, w, h) = faces[0]\n",
    "    face_roi = gray[y:y+h, x:x+w]\n",
    "\n",
    "    resized = cv2.resize(face_roi, (48, 48))\n",
    "    normalized = resized / 255.0\n",
    "    input_tensor = np.expand_dims(np.expand_dims(normalized, -1), 0)\n",
    "\n",
    "    predictions = model.predict(input_tensor, verbose=0)\n",
    "    print(f\"[DEBUG] Raw predictions: {predictions[0]}\")\n",
    "\n",
    "    return class_names[np.argmax(predictions[0])], np.max(predictions[0])\n"
   ]
  },
  {
   "cell_type": "markdown",
   "id": "21fadd4c",
   "metadata": {},
   "source": [
    "### detect emotion and get recommendation with lastfm api"
   ]
  },
  {
   "cell_type": "code",
   "execution_count": 6,
   "id": "fdda5b55",
   "metadata": {},
   "outputs": [
    {
     "name": "stdout",
     "output_type": "stream",
     "text": [
      "Using camera at index 0\n",
      "[DEBUG] Raw predictions: [0.1561205  0.14160897 0.1463152  0.15503582 0.13460651 0.12771395\n",
      " 0.13859911]\n",
      "[DEBUG] Current: angry (Confidence: 0.16) | Last: None\n",
      "[DEBUG] Low 0.16), skipping...\n",
      "[DEBUG] Raw predictions: [0.1570559  0.14154743 0.14653476 0.15480818 0.13444553 0.12726325\n",
      " 0.13834487]\n",
      "[DEBUG] Current: angry (Confidence: 0.16) | Last: None\n",
      "[DEBUG] Low 0.16), skipping...\n",
      "[DEBUG] Raw predictions: [0.15878949 0.14035818 0.14546782 0.15691218 0.13452268 0.12730642\n",
      " 0.13664328]\n",
      "[DEBUG] Current: angry (Confidence: 0.16) | Last: None\n",
      "[DEBUG] Low 0.16), skipping...\n",
      "[DEBUG] Raw predictions: [0.15854825 0.13991696 0.1440698  0.15701541 0.13520753 0.12759326\n",
      " 0.13764875]\n",
      "[DEBUG] Current: angry (Confidence: 0.16) | Last: None\n",
      "[DEBUG] Low 0.16), skipping...\n",
      "[DEBUG] Raw predictions: [0.15825693 0.13963108 0.14405079 0.15729827 0.13460594 0.12754814\n",
      " 0.13860889]\n",
      "[DEBUG] Current: angry (Confidence: 0.16) | Last: None\n",
      "[DEBUG] Low 0.16), skipping...\n",
      "[DEBUG] Raw predictions: [0.15693241 0.14088349 0.14582336 0.15593106 0.13523196 0.12736721\n",
      " 0.13783045]\n",
      "[DEBUG] Current: angry (Confidence: 0.16) | Last: None\n",
      "[DEBUG] Low 0.16), skipping...\n",
      "[DEBUG] Raw predictions: [0.1575386  0.14089635 0.14391656 0.15714456 0.13401704 0.12781164\n",
      " 0.1386753 ]\n",
      "[DEBUG] Current: angry (Confidence: 0.16) | Last: None\n",
      "[DEBUG] Low 0.16), skipping...\n",
      "[DEBUG] Raw predictions: [0.15640076 0.14005896 0.14477023 0.1574527  0.13692337 0.12722532\n",
      " 0.13716868]\n",
      "[DEBUG] Current: happy (Confidence: 0.16) | Last: None\n",
      "[DEBUG] Low 0.16), skipping...\n",
      "[DEBUG] Raw predictions: [0.15650177 0.13947766 0.14557892 0.1575541  0.13550754 0.12728861\n",
      " 0.1380914 ]\n",
      "[DEBUG] Current: happy (Confidence: 0.16) | Last: None\n",
      "[DEBUG] Low 0.16), skipping...\n",
      "[DEBUG] Raw predictions: [0.15563264 0.14154512 0.14607571 0.1530783  0.13570322 0.12892143\n",
      " 0.13904358]\n",
      "[DEBUG] Current: angry (Confidence: 0.16) | Last: None\n",
      "[DEBUG] Low 0.16), skipping...\n",
      "[DEBUG] Raw predictions: [0.15564527 0.14012301 0.1426189  0.15687944 0.13578098 0.12918958\n",
      " 0.13976288]\n",
      "[DEBUG] Current: happy (Confidence: 0.16) | Last: None\n",
      "[DEBUG] Low 0.16), skipping...\n",
      "[DEBUG] Raw predictions: [0.1575526  0.14018805 0.14461124 0.15600704 0.13495457 0.12714468\n",
      " 0.13954194]\n",
      "[DEBUG] Current: angry (Confidence: 0.16) | Last: None\n",
      "[DEBUG] Low 0.16), skipping...\n",
      "[DEBUG] Raw predictions: [0.15760979 0.14079826 0.14591168 0.15480536 0.1345578  0.12779978\n",
      " 0.13851734]\n",
      "[DEBUG] Current: angry (Confidence: 0.16) | Last: None\n",
      "[DEBUG] Low 0.16), skipping...\n",
      "[DEBUG] Raw predictions: [0.15579236 0.1414887  0.14693236 0.15431486 0.13445057 0.12773378\n",
      " 0.13928741]\n",
      "[DEBUG] Current: angry (Confidence: 0.16) | Last: None\n",
      "[DEBUG] Low 0.16), skipping...\n",
      "[DEBUG] Raw predictions: [0.15648699 0.14160712 0.14622279 0.15522134 0.1339565  0.12753105\n",
      " 0.13897425]\n",
      "[DEBUG] Current: angry (Confidence: 0.16) | Last: None\n",
      "[DEBUG] Low 0.16), skipping...\n",
      "[DEBUG] Raw predictions: [0.15653639 0.1395828  0.144321   0.1585125  0.13538678 0.12763284\n",
      " 0.13802764]\n",
      "[DEBUG] Current: happy (Confidence: 0.16) | Last: None\n",
      "[DEBUG] Low 0.16), skipping...\n",
      "[DEBUG] Raw predictions: [0.15457034 0.14014213 0.14460042 0.15813568 0.13696715 0.1278633\n",
      " 0.13772094]\n",
      "[DEBUG] Current: happy (Confidence: 0.16) | Last: None\n",
      "[DEBUG] Low 0.16), skipping...\n",
      "[DEBUG] Raw predictions: [0.15582879 0.14261253 0.1464478  0.15385734 0.1345971  0.12804776\n",
      " 0.13860871]\n",
      "[DEBUG] Current: angry (Confidence: 0.16) | Last: None\n",
      "[DEBUG] Low 0.16), skipping...\n",
      "[DEBUG] Raw predictions: [0.15554704 0.14151573 0.14502198 0.15511134 0.13553336 0.1277673\n",
      " 0.1395033 ]\n",
      "[DEBUG] Current: angry (Confidence: 0.16) | Last: None\n",
      "[DEBUG] Low 0.16), skipping...\n",
      "[DEBUG] Raw predictions: [0.1568647  0.14112331 0.14430186 0.15554826 0.13507058 0.12773205\n",
      " 0.13935928]\n",
      "[DEBUG] Current: angry (Confidence: 0.16) | Last: None\n",
      "[DEBUG] Low 0.16), skipping...\n",
      "[DEBUG] Current: No face (Confidence: 0.00) | Last: None\n",
      "[DEBUG] Low 0.00), skipping...\n",
      "[DEBUG] Raw predictions: [0.1559366  0.14155263 0.14380589 0.15648349 0.13597377 0.127107\n",
      " 0.13914062]\n",
      "[DEBUG] Current: happy (Confidence: 0.16) | Last: None\n",
      "[DEBUG] Low 0.16), skipping...\n",
      "[DEBUG] Raw predictions: [0.15618399 0.1405664  0.14537685 0.15747184 0.1347612  0.12705971\n",
      " 0.13858002]\n",
      "[DEBUG] Current: happy (Confidence: 0.16) | Last: None\n",
      "[DEBUG] Low 0.16), skipping...\n"
     ]
    },
    {
     "ename": "error",
     "evalue": "OpenCV(4.11.0) /io/opencv/modules/highgui/src/window_QT.cpp:578: error: (-27:Null pointer) NULL guiReceiver (please create a window) in function 'cvDestroyWindow'\n",
     "output_type": "error",
     "traceback": [
      "\u001b[31m---------------------------------------------------------------------------\u001b[39m",
      "\u001b[31merror\u001b[39m                                     Traceback (most recent call last)",
      "\u001b[36mCell\u001b[39m\u001b[36m \u001b[39m\u001b[32mIn[6]\u001b[39m\u001b[32m, line 104\u001b[39m\n\u001b[32m    101\u001b[39m         \u001b[38;5;28mprint\u001b[39m(\u001b[33m\"\u001b[39m\u001b[33mApp closed cleanly\u001b[39m\u001b[33m\"\u001b[39m)\n\u001b[32m    103\u001b[39m \u001b[38;5;28;01mif\u001b[39;00m \u001b[34m__name__\u001b[39m == \u001b[33m\"\u001b[39m\u001b[33m__main__\u001b[39m\u001b[33m\"\u001b[39m:\n\u001b[32m--> \u001b[39m\u001b[32m104\u001b[39m     \u001b[43mmain\u001b[49m\u001b[43m(\u001b[49m\u001b[43m)\u001b[49m\n",
      "\u001b[36mCell\u001b[39m\u001b[36m \u001b[39m\u001b[32mIn[6]\u001b[39m\u001b[32m, line 100\u001b[39m, in \u001b[36mmain\u001b[39m\u001b[34m()\u001b[39m\n\u001b[32m     98\u001b[39m cap.release()\n\u001b[32m     99\u001b[39m cv2.destroyAllWindows()\n\u001b[32m--> \u001b[39m\u001b[32m100\u001b[39m \u001b[43mcv2\u001b[49m\u001b[43m.\u001b[49m\u001b[43mdestroyWindow\u001b[49m\u001b[43m(\u001b[49m\u001b[33;43m\"\u001b[39;49m\u001b[33;43mProcessed Face\u001b[39;49m\u001b[33;43m\"\u001b[39;49m\u001b[43m)\u001b[49m\n\u001b[32m    101\u001b[39m \u001b[38;5;28mprint\u001b[39m(\u001b[33m\"\u001b[39m\u001b[33mApp closed cleanly\u001b[39m\u001b[33m\"\u001b[39m)\n",
      "\u001b[31merror\u001b[39m: OpenCV(4.11.0) /io/opencv/modules/highgui/src/window_QT.cpp:578: error: (-27:Null pointer) NULL guiReceiver (please create a window) in function 'cvDestroyWindow'\n"
     ]
    }
   ],
   "source": [
    "import cv2\n",
    "import numpy as np\n",
    "import time\n",
    "from music_recommender import MusicRecommender\n",
    "\n",
    "\n",
    "\n",
    "\n",
    "def initialize_camera():\n",
    "    \"\"\"Initialize camera with better settings\"\"\"\n",
    "    for camera_index in [0, 1, 2]:\n",
    "        cap = cv2.VideoCapture(camera_index)  \n",
    "        if cap.isOpened():\n",
    "            # Set optimal camera settings\n",
    "            cap.set(cv2.CAP_PROP_FRAME_WIDTH, 640)\n",
    "            cap.set(cv2.CAP_PROP_FRAME_HEIGHT, 480)\n",
    "            cap.set(cv2.CAP_PROP_FPS, 30)\n",
    "            print(f\"Using camera at index {camera_index}\")\n",
    "            return cap\n",
    "        cap.release()\n",
    "    raise RuntimeError(\"Could not open any camera\")\n",
    "\n",
    "def main():\n",
    "    model = tf.keras.models.load_model('/home/sanyam/Documents/machine learning /minor project/moodtunes/moodtunes/backend/model/emotion_cnn_model.keras')\n",
    "    # model.compile(optimizer='adam', loss='categorical_crossentropy', metrics=['accuracy'])\n",
    "    \n",
    "    cap = initialize_camera()\n",
    "    recommender = MusicRecommender(api_key=\"8f2e5122c0034cb7c1eaf3a0e21c7ee5\", api_secret=\"fd5d0aae8dbc49c3d514b0dfc078091f\")\n",
    "    \n",
    "    last_emotion = None\n",
    "    last_recommendations = []\n",
    "    processing_interval = 30  # Process every 30 frames (~1 second at 30fps)\n",
    "    frame_count = 0\n",
    "\n",
    "    try:\n",
    "        while True:\n",
    "            start_time = time.time()\n",
    "            \n",
    "            # Read frame\n",
    "            ret, frame = cap.read()\n",
    "            if not ret:\n",
    "                print(\"Frame capture failed, retrying...\")\n",
    "                time.sleep(0.1)\n",
    "                continue\n",
    "            \n",
    "            frame_count += 1\n",
    "            \n",
    "            # Process at intervals\n",
    "            if frame_count % processing_interval == 0:\n",
    "                try:\n",
    "                    gray = cv2.cvtColor(frame, cv2.COLOR_BGR2GRAY)\n",
    "                    resized = cv2.resize(gray, (48, 48))\n",
    "                    cv2.imshow('Processed Face', resized)\n",
    "\n",
    "                    current_emotion, confidence = predict_emotion(frame, model)\n",
    "                    #debug print\n",
    "                    print(f\"[DEBUG] Current: {current_emotion} (Confidence: {confidence:.2f}) | Last: {last_emotion}\")\n",
    "                    if(confidence < 0.3):\n",
    "                        print(f\"[DEBUG] Low {confidence:.2f}), skipping...\")\n",
    "                        continue  # skipping weak predictions\n",
    "\n",
    "                    if current_emotion != last_emotion:\n",
    "                        print(f\"\\nDetected: {current_emotion} (Confidence: {confidence:.0%})\")\n",
    "                        \n",
    "                        # Get recommendations (with fallback to cached)\n",
    "                        try:\n",
    "                            recommendations = recommender.get_recommendations(current_emotion)\n",
    "                            if recommendations:\n",
    "                                last_recommendations = recommendations\n",
    "                                print(\"=== Recommended Songs ===\")\n",
    "                                for i, (song, artist) in enumerate(recommendations, 1):\n",
    "                                    print(f\"{i}. {song} by {artist}\")\n",
    "                            elif last_recommendations:\n",
    "                                print(\"(Using cached recommendations)\")\n",
    "                                for i, (song, artist) in enumerate(last_recommendations, 1):\n",
    "                                    print(f\"{i}. {song} by {artist}\")\n",
    "                        except Exception as e:\n",
    "                            print(f\"Recommendation error: {str(e)}\")\n",
    "                            \n",
    "                        last_emotion = current_emotion\n",
    "                \n",
    "                except Exception as e:\n",
    "                    print(f\"Processing error: {str(e)}\")\n",
    "            \n",
    "            # Display\n",
    "            display_text = f\"Mood: {last_emotion}\" if last_emotion else \"Detecting...\"\n",
    "            cv2.putText(frame, display_text, (10, 30),\n",
    "                       cv2.FONT_HERSHEY_SIMPLEX, 0.9, (0, 255, 0), 2)\n",
    "            cv2.imshow('Emotion Music', frame)\n",
    "            \n",
    "            # Maintain consistent FPS\n",
    "            elapsed = time.time() - start_time\n",
    "            delay = max(1, int((1/30 - elapsed) * 1000))  # Target 30 FPS\n",
    "            if cv2.waitKey(delay) & 0xFF == ord('q'):\n",
    "                break\n",
    "                \n",
    "    finally:\n",
    "        cap.release()\n",
    "        cv2.destroyAllWindows()\n",
    "        cv2.destroyWindow(\"Processed Face\")\n",
    "        print(\"App closed cleanly\")\n",
    "\n",
    "if __name__ == \"__main__\":\n",
    "    main()"
   ]
  },
  {
   "cell_type": "markdown",
   "id": "cc7e9cfe",
   "metadata": {},
   "source": [
    "### webcam "
   ]
  },
  {
   "cell_type": "code",
   "execution_count": 9,
   "id": "8c67cb04",
   "metadata": {},
   "outputs": [
    {
     "data": {
      "text/plain": [
       "' import cv2\\nimport numpy as np\\n\\n\\n\\ndef preprocess_frame_for_cnn(frame, img_size=(48, 48)):\\n    \"\"\"Convert webcam frame to CNN input format\"\"\"\\n    gray = cv2.cvtColor(frame, cv2.COLOR_BGR2GRAY)\\n    resized = cv2.resize(gray, img_size)\\n    normalized = resized / 255.0\\n    input_tensor = np.expand_dims(np.expand_dims(normalized, -1), 0)\\n    return input_tensor\\n\\ncap = cv2.VideoCapture(0)\\nlast_emotion = None\\n\\nwhile True:\\n    ret, frame = cap.read()\\n    if not ret:\\n        continue\\n\\n    # Process every second (30 frames at ~30fps)\\n    if cv2.getTickCount() % 30 == 0:\\n        try:\\n            # Preprocess and predict\\n            input_tensor = preprocess_frame_for_cnn(frame)\\n            predictions = model.predict(input_tensor)\\n            current_emotion = class_names[np.argmax(predictions)]\\n\\n            if current_emotion != last_emotion:\\n                print(f\"\\nNew emotion detected: {current_emotion}\")\\n                recommendations = recommender.get_recommendations(current_emotion)\\n                recommender.print_recommendations(recommendations)\\n                last_emotion = current_emotion\\n\\n        except Exception as e:\\n            print(f\"Error: {str(e)}\")\\n\\n    # Display\\n    display_text = f\"Current Mood: {last_emotion}\" if last_emotion else \"Analyzing...\"\\n    cv2.putText(frame, display_text, (10, 30),\\n               cv2.FONT_HERSHEY_SIMPLEX, 0.9, (0, 255, 0), 2)\\n    cv2.imshow(\\'Emotion Music Recommender\\', frame)\\n\\n    if cv2.waitKey(1) & 0xFF == ord(\\'q\\'):\\n        break\\n\\ncap.release()\\ncv2.destroyAllWindows()\\n'"
      ]
     },
     "execution_count": 9,
     "metadata": {},
     "output_type": "execute_result"
    }
   ],
   "source": [
    "''' import cv2\n",
    "import numpy as np\n",
    "\n",
    "\n",
    "\n",
    "def preprocess_frame_for_cnn(frame, img_size=(48, 48)):\n",
    "    \"\"\"Convert webcam frame to CNN input format\"\"\"\n",
    "    gray = cv2.cvtColor(frame, cv2.COLOR_BGR2GRAY)\n",
    "    resized = cv2.resize(gray, img_size)\n",
    "    normalized = resized / 255.0\n",
    "    input_tensor = np.expand_dims(np.expand_dims(normalized, -1), 0)\n",
    "    return input_tensor\n",
    "\n",
    "cap = cv2.VideoCapture(0)\n",
    "last_emotion = None\n",
    "\n",
    "while True:\n",
    "    ret, frame = cap.read()\n",
    "    if not ret:\n",
    "        continue\n",
    "    \n",
    "    # Process every second (30 frames at ~30fps)\n",
    "    if cv2.getTickCount() % 30 == 0:\n",
    "        try:\n",
    "            # Preprocess and predict\n",
    "            input_tensor = preprocess_frame_for_cnn(frame)\n",
    "            predictions = model.predict(input_tensor)\n",
    "            current_emotion = class_names[np.argmax(predictions)]\n",
    "            \n",
    "            if current_emotion != last_emotion:\n",
    "                print(f\"\\nNew emotion detected: {current_emotion}\")\n",
    "                recommendations = recommender.get_recommendations(current_emotion)\n",
    "                recommender.print_recommendations(recommendations)\n",
    "                last_emotion = current_emotion\n",
    "                \n",
    "        except Exception as e:\n",
    "            print(f\"Error: {str(e)}\")\n",
    "    \n",
    "    # Display\n",
    "    display_text = f\"Current Mood: {last_emotion}\" if last_emotion else \"Analyzing...\"\n",
    "    cv2.putText(frame, display_text, (10, 30),\n",
    "               cv2.FONT_HERSHEY_SIMPLEX, 0.9, (0, 255, 0), 2)\n",
    "    cv2.imshow('Emotion Music Recommender', frame)\n",
    "    \n",
    "    if cv2.waitKey(1) & 0xFF == ord('q'):\n",
    "        break\n",
    "\n",
    "cap.release()\n",
    "cv2.destroyAllWindows()\n",
    "'''"
   ]
  }
 ],
 "metadata": {
  "kernelspec": {
   "display_name": "venv",
   "language": "python",
   "name": "python3"
  },
  "language_info": {
   "codemirror_mode": {
    "name": "ipython",
    "version": 3
   },
   "file_extension": ".py",
   "mimetype": "text/x-python",
   "name": "python",
   "nbconvert_exporter": "python",
   "pygments_lexer": "ipython3",
   "version": "3.12.3"
  }
 },
 "nbformat": 4,
 "nbformat_minor": 5
}
